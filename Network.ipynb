{
 "cells": [
  {
   "cell_type": "code",
   "execution_count": 163,
   "metadata": {
    "collapsed": true,
    "pycharm": {
     "is_executing": false
    }
   },
   "outputs": [],
   "source": [
    "# neural network that takes in four design variables from composites and outputs a predicted failure load\n",
    "\n",
    "# ----------------------------------------------------\n",
    "# INPUT\n",
    "# [fiber type, fiber weight, dispersing agent, mixing]\n",
    "# ----------------------------------------------------\n",
    "# # fiber type\n",
    "# ## 0 = PR\n",
    "# ## 1 = OX\n",
    "# ----------------------------------------------------\n",
    "# # fiber weight\n",
    "# ## .25 -> 1.00 in .25 increments\n",
    "# ----------------------------------------------------\n",
    "# # dispersing agent\n",
    "# ## 0 = no\n",
    "# ## 1 = yes\n",
    "# ----------------------------------------------------\n",
    "# # mixing\n",
    "# ## 0 = SO\n",
    "# ## 1 = HS\n",
    "# ## 2 = HS + SO\n",
    "# ----------------------------------------------------"
   ]
  },
  {
   "cell_type": "code",
   "execution_count": 164,
   "outputs": [],
   "source": [
    "# IMPORTS \n",
    "import tensorflow as tf\n",
    "import numpy as np\n",
    "import pandas as pd\n",
    "import csv\n",
    "import matplotlib.pyplot as plt"
   ],
   "metadata": {
    "collapsed": false,
    "pycharm": {
     "name": "#%%\n",
     "is_executing": false
    }
   }
  },
  {
   "cell_type": "code",
   "execution_count": 165,
   "outputs": [],
   "source": [
    "# Bring in data\n",
    "df = pd.read_excel('Flex_Data.xlsx', usecols='B:E,K', skiprows=3)\n",
    "\n",
    "# one-hotify the data that is not numerical\n",
    "df['Fiber\\nType'] = df['Fiber\\nType'].map({'PR':0, 'OX':1})\n",
    "df['Dispersing\\nAgent'] = df['Dispersing\\nAgent'].map({'No':0, 'Yes':1})\n",
    "df['Mixing'] = df['Mixing'].map({'SO':0, 'HS':1, 'SO+HS':2})\n",
    "\n",
    "# rename the failure load column\n",
    "df.rename(columns={'Unnamed: 10':'Failure Load'}, inplace = True)\n",
    "\n",
    "# create a train and test set from the data\n",
    "train_df = df.sample(frac=0.9, random_state=2)\n",
    "test_df = df.drop(train_df.index)\n",
    "\n",
    "# create data set of the experimentally found Failure Load\n",
    "train_labels = train_df.pop('Failure Load')\n",
    "test_labels = test_df.pop('Failure Load')\n",
    "\n",
    "# convert the pandas dataframes to numpy arrays\n",
    "train_dataset = train_df.to_numpy() / 1451.933\n",
    "train_labels = train_labels.to_numpy() / 1451.933\n",
    "\n",
    "test_dataset = test_df.to_numpy() / 1451.933\n",
    "test_labels = test_labels.to_numpy() /1451.933"
   ],
   "metadata": {
    "collapsed": false,
    "pycharm": {
     "name": "#%%\n",
     "is_executing": false
    }
   }
  },
  {
   "cell_type": "code",
   "execution_count": 166,
   "outputs": [
    {
     "name": "stdout",
     "text": [
      "Model: \"sequential_18\"\n_________________________________________________________________\nLayer (type)                 Output Shape              Param #   \n=================================================================\ndense_79 (Dense)             (None, 64)                320       \n_________________________________________________________________\ndense_80 (Dense)             (None, 128)               8320      \n_________________________________________________________________\ndense_81 (Dense)             (None, 64)                8256      \n_________________________________________________________________\ndense_82 (Dense)             (None, 64)                4160      \n_________________________________________________________________\ndense_83 (Dense)             (None, 1)                 65        \n=================================================================\nTotal params: 21,121\nTrainable params: 21,121\nNon-trainable params: 0\n_________________________________________________________________\n"
     ],
     "output_type": "stream"
    }
   ],
   "source": [
    "# Build model\n",
    "\n",
    "model = tf.keras.Sequential([\n",
    "    tf.keras.layers.Dense(64, activation='tanh', input_shape=[4,]),\n",
    "    tf.keras.layers.Dense(128, activation='relu'),\n",
    "    tf.keras.layers.Dense(64, activation='relu'),\n",
    "    tf.keras.layers.Dense(64, activation='relu'),\n",
    "    tf.keras.layers.Dense(1)\n",
    "])\n",
    "\n",
    "# optimizer chosen for fitting the data\n",
    "optimizer = tf.keras.optimizers.RMSprop(.001)\n",
    "# optimizer = tf.keras.optimizers.Adam()\n",
    "\n",
    "# compile the model and print a summary of the model\n",
    "model.compile(loss='mse',\n",
    "              optimizer=optimizer,\n",
    "              metrics=['mae', 'mse'])\n",
    "\n",
    "model.summary()"
   ],
   "metadata": {
    "collapsed": false,
    "pycharm": {
     "name": "#%%\n",
     "is_executing": false
    }
   }
  },
  {
   "cell_type": "code",
   "execution_count": 167,
   "outputs": [],
   "source": [
    "# define the epochs and train the model\n",
    "EPOCHS = 10000\n",
    "\n",
    "history = model.fit(\n",
    "  train_dataset, train_labels,\n",
    "  epochs=EPOCHS, validation_split=0.1,\n",
    "  verbose=0)"
   ],
   "metadata": {
    "collapsed": false,
    "pycharm": {
     "name": "#%%\n",
     "is_executing": false
    }
   }
  },
  {
   "cell_type": "code",
   "execution_count": 168,
   "outputs": [
    {
     "name": "stdout",
     "text": [
      "Test set actual: 0.356609430324953, Predicted: [0.43092418]\nTest set actual: 0.406802517747031, Predicted: [0.43865836]\nTest set actual: 0.3467501599591717, Predicted: [0.3384371]\nTest set actual: 0.2559567142560986, Predicted: [0.31407753]\nTest set actual: 0.44961647679335065, Predicted: [0.38313755]\nTest set actual: 0.3921813196614445, Predicted: [0.42095983]\nTest set actual: 0.6422996102437234, Predicted: [0.5129787]\nTest set actual: 0.6644369953709985, Predicted: [0.51669145]\nTest set actual: 0.517026612109512, Predicted: [0.5216453]\nTest set actual: 0.549086631407923, Predicted: [0.48484454]\nTest set actual: 0.5325493669473729, Predicted: [0.50541914]\nTest set actual: 0.2986074426299285, Predicted: [0.52592444]\nTest set actual: 0.2854215724830278, Predicted: [0.5068361]\nTest set actual: 0.5491506839502925, Predicted: [0.55388904]\nTest set actual: 0.5846406135820317, Predicted: [0.7886815]\nTest set actual: 0.7039422617985817, Predicted: [0.61632633]\nTest set actual: 0.5908020549157571, Predicted: [0.6318074]\nTest set actual: 0.4731368458461926, Predicted: [0.5292649]\nTest set actual: 0.5492705241908545, Predicted: [0.538072]\n"
     ],
     "output_type": "stream"
    }
   ],
   "source": [
    "# test the model on the test data that was set aside\n",
    "test_predict = model.predict(test_dataset)\n",
    "\n",
    "predicted = []\n",
    "actual = []\n",
    "\n",
    "with open('results_1_relu.csv', 'w', newline='') as file:\n",
    "    writer = csv.writer(file)\n",
    "    writer.writerow(['ANN prediction'])\n",
    "    writer.writerow(['variables', 'actual', 'predicted'])\n",
    "\n",
    "    for sample in range(len(test_labels)):\n",
    "        \n",
    "        actual.append(test_labels[sample])\n",
    "        predicted.append(test_predict[sample])\n",
    "        \n",
    "        print(f\"Test set actual: {test_labels[sample]}, Predicted: {test_predict[sample]}\")\n",
    "        writer.writerow([test_dataset[sample], test_labels[sample], test_predict[sample][0]])"
   ],
   "metadata": {
    "collapsed": false,
    "pycharm": {
     "name": "#%%\n",
     "is_executing": false
    }
   }
  },
  {
   "cell_type": "code",
   "execution_count": 171,
   "outputs": [
    {
     "data": {
      "text/plain": "<Figure size 432x288 with 1 Axes>",
      "image/png": "[encoded data removed]"
     },
     "metadata": {
      "needs_background": "light"
     },
     "output_type": "display_data"
    }
   ],
   "source": [
    "# 100% confidence\n",
    "x = np.linspace(0,1,100)\n",
    "y1 = x\n",
    "\n",
    "plt.plot(x, y1, 'k-')\n",
    "\n",
    "# 80% confidence interval\n",
    "y2 = x + .2\n",
    "y3 = x - .2\n",
    "\n",
    "plt.fill_between(x, y1, y2,facecolor='grey')\n",
    "plt.fill_between(x, y1, y3, facecolor='grey')\n",
    "\n",
    "# 60% confidence interval\n",
    "y4 = x + .4\n",
    "y5 = x - .4\n",
    "\n",
    "plt.fill_between(x, y2, y4, facecolor='silver')\n",
    "plt.fill_between(x, y3, y5,facecolor='silver')\n",
    "\n",
    "# 40% confidence interval\n",
    "y6 = x + .6\n",
    "y7 = x - .6\n",
    "\n",
    "plt.fill_between(x, y4, y6, facecolor='gainsboro')\n",
    "plt.fill_between(x, y5, y7,facecolor='gainsboro')\n",
    "\n",
    "# plot results of NN\n",
    "plt.plot(actual, predicted, 'ko')\n",
    "\n",
    "plt.axis([0, 1, 0, 1])\n",
    "plt.ylabel('Predicted')\n",
    "plt.xlabel('Experimental')\n",
    "\n",
    "plt.show()\n",
    "\n"
   ],
   "metadata": {
    "collapsed": false,
    "pycharm": {
     "name": "#%%\n",
     "is_executing": false
    }
   }
  }
 ],
 "metadata": {
  "kernelspec": {
   "display_name": "Python 3",
   "language": "python",
   "name": "python3"
  },
  "language_info": {
   "codemirror_mode": {
    "name": "ipython",
    "version": 2
   },
   "file_extension": ".py",
   "mimetype": "text/x-python",
   "name": "python",
   "nbconvert_exporter": "python",
   "pygments_lexer": "ipython2",
   "version": "2.7.6"
  },
  "pycharm": {
   "stem_cell": {
    "cell_type": "raw",
    "source": [],
    "metadata": {
     "collapsed": false
    }
   }
  }
 },
 "nbformat": 4,
 "nbformat_minor": 0
}